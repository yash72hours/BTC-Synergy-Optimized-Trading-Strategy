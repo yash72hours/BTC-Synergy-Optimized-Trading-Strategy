{
 "cells": [
  {
   "cell_type": "code",
   "execution_count": 1,
   "metadata": {},
   "outputs": [],
   "source": [
    "import pandas as pd\n",
    "import numpy as np\n",
    "import matplotlib.pyplot as plt\n",
    "import matplotlib.dates as mdates"
   ]
  },
  {
   "cell_type": "code",
   "execution_count": 2,
   "metadata": {},
   "outputs": [],
   "source": [
    "FAST_EMA = 15\n",
    "SLOW_EMA = 22\n",
    "SIGNAL_EMA = 9\n",
    "STOCH_RSI_PERIOD = 7\n",
    "SMOOTH_K = 3\n",
    "SMOOTH_D = 2\n",
    "RSI_PERIOD = 21\n",
    "ATR_PERIOD = 8\n",
    "ATR_MULTIPLIER = 1.5\n",
    "STOP_LOSS_PERCENTAGE = 0.03\n",
    "TP_LONG_PERCENTAGE = 0.075\n",
    "TP_SHORT_PERCENTAGE = 0.075\n",
    "WEIGHT_SIGNAL = 2\n",
    "CANDLE_DELAY = 1\n",
    "\n",
    "def macd(df):\n",
    "    df['ema_fast'] = df['hl2'].ewm(span=FAST_EMA, min_periods=1).mean()\n",
    "    df['ema_slow'] = df['hl2'].ewm(span=SLOW_EMA, min_periods=1).mean()\n",
    "    df['macd'] = df['ema_fast'] - df['ema_slow']\n",
    "    df['macd_signal'] = df['macd'].ewm(span=SIGNAL_EMA, min_periods=1).mean()\n",
    "\n",
    "def stoch_rsi(df):\n",
    "    delta = df['close'].diff(1)\n",
    "    gain = delta.where(delta > 0, 0)\n",
    "    loss = -delta.where(delta < 0, 0)\n",
    "    avg_gain = gain.rolling(window=STOCH_RSI_PERIOD).mean()\n",
    "    avg_loss = loss.rolling(window=STOCH_RSI_PERIOD).mean()\n",
    "    rs = avg_gain / avg_loss\n",
    "    df['rsi'] = 100 - (100 / (1 + rs))\n",
    "    df['stoch_rsi'] = (df['rsi'] - df['rsi'].rolling(window=STOCH_RSI_PERIOD).min()) / \\\n",
    "                      (df['rsi'].rolling(window=STOCH_RSI_PERIOD).max() - df['rsi'].rolling(window=STOCH_RSI_PERIOD).min())\n",
    "    df['stoch_rsi_k'] = df['stoch_rsi'].rolling(window=SMOOTH_K).mean() * 100\n",
    "    df['stoch_rsi_d'] = df['stoch_rsi_k'].rolling(window=SMOOTH_D).mean()\n",
    "\n",
    "def rsi(df):\n",
    "    delta = df['close'].diff(1)\n",
    "    gain = delta.where(delta > 0, 0)\n",
    "    loss = -delta.where(delta < 0, 0)\n",
    "    avg_gain = gain.rolling(window=RSI_PERIOD).mean()\n",
    "    avg_loss = loss.rolling(window=RSI_PERIOD).mean()\n",
    "    rs = avg_gain / avg_loss\n",
    "    df['rsi'] = 100 - (100 / (1 + rs))\n",
    "\n",
    "def supertrend(df):\n",
    "    df['atr'] = df['hl2'].rolling(window=ATR_PERIOD).apply(lambda x: np.max(x) - np.min(x), raw=True)\n",
    "    df['upper_band'] = (df['hl2'] + ATR_MULTIPLIER * df['atr'])\n",
    "    df['lower_band'] = (df['hl2'] - ATR_MULTIPLIER * df['atr'])\n",
    "    df['supertrend'] = np.where(df['close'] > df['upper_band'], df['lower_band'], df['upper_band'])\n",
    "\n",
    "def apply_strategy(df):\n",
    "    trade_log = []\n",
    "\n",
    "    df['hl2'] = (df['high'] + df['low']) / 2\n",
    "    macd(df)\n",
    "    stoch_rsi(df)\n",
    "    rsi(df)\n",
    "    supertrend(df)\n",
    "    df['ema50'] = df['close'].ewm(span=50, min_periods=1).mean()\n",
    "    df['ema88'] = df['close'].ewm(span=88, min_periods=1).mean()\n",
    "\n",
    "    in_position = False\n",
    "    position_type = None\n",
    "    entry_price = 0\n",
    "    stop_loss = 0\n",
    "    take_profit = 0\n",
    "    entry_time = None\n",
    "\n",
    "    for i in range(CANDLE_DELAY, len(df)):\n",
    "        weight_strategy = 0\n",
    "        if df['macd'].iloc[i] > df['macd_signal'].iloc[i]:\n",
    "            weight_strategy += 1\n",
    "        if df['stoch_rsi_k'].iloc[i] > 70:\n",
    "            weight_strategy += 1\n",
    "        if df['rsi'].iloc[i] > 70:\n",
    "            weight_strategy += 1\n",
    "        if df['close'].iloc[i] > df['supertrend'].iloc[i]:\n",
    "            weight_strategy += 1\n",
    "        if df['ema50'].iloc[i] > df['ema88'].iloc[i]:\n",
    "            weight_strategy += 1\n",
    "\n",
    "        if weight_strategy > WEIGHT_SIGNAL and not in_position:\n",
    "            in_position = True\n",
    "            position_type = 'long'\n",
    "            entry_price = df['close'].iloc[i]\n",
    "            stop_loss = df['hl2'].iloc[i] * (1 - STOP_LOSS_PERCENTAGE)\n",
    "            take_profit = entry_price * (1 + TP_LONG_PERCENTAGE)\n",
    "            entry_time = df['datetime'].iloc[i]\n",
    "\n",
    "        elif weight_strategy < -WEIGHT_SIGNAL and not in_position:\n",
    "            in_position = True\n",
    "            position_type = 'short'\n",
    "            entry_price = df['close'].iloc[i]\n",
    "            stop_loss = df['hl2'].iloc[i] * (1 + STOP_LOSS_PERCENTAGE)\n",
    "            take_profit = entry_price * (1 - TP_SHORT_PERCENTAGE)\n",
    "            entry_time = df['datetime'].iloc[i]\n",
    "\n",
    "        elif in_position and position_type == 'long':\n",
    "            if df['close'].iloc[i] >= take_profit or df['close'].iloc[i] <= stop_loss:\n",
    "                exit_price = df['close'].iloc[i]\n",
    "                exit_time = df['datetime'].iloc[i]\n",
    "                pnl = (exit_price - entry_price) / entry_price * 100\n",
    "                trade_log.append([entry_time, entry_price, exit_time, exit_price, pnl, 'long'])\n",
    "                in_position = False\n",
    "\n",
    "        elif in_position and position_type == 'short':\n",
    "            if df['close'].iloc[i] <= take_profit or df['close'].iloc[i] >= stop_loss:\n",
    "                exit_price = df['close'].iloc[i]\n",
    "                exit_time = df['datetime'].iloc[i]\n",
    "                pnl = (entry_price - exit_price) / entry_price * 100\n",
    "                trade_log.append([entry_time, entry_price, exit_time, exit_price, pnl, 'short'])\n",
    "                in_position = False\n",
    "\n",
    "    trade_log_df = pd.DataFrame(trade_log, columns=['entry_datetime', 'entry_price', 'exit_datetime', 'exit_price', 'pnl%', 'trade'])\n",
    "    return trade_log_df\n",
    "\n",
    "# Main execution\n",
    "file_path = 'btc_18_22_1d.csv'  \n",
    "df = pd.read_csv(file_path)\n",
    "\n",
    "trade_log_df = apply_strategy(df)"
   ]
  },
  {
   "cell_type": "code",
   "execution_count": 3,
   "metadata": {},
   "outputs": [],
   "source": [
    "df['signal'] = 0\n",
    "\n",
    "# Loop through each row in the trade_log_df to update the original DataFrame\n",
    "for index, row in trade_log_df.iterrows():\n",
    "    # Set signal to 1 for entry date\n",
    "    entry_date = row['entry_datetime']\n",
    "    df.loc[df['datetime'] == entry_date, 'signal'] = 1\n",
    "    \n",
    "    # Set signal to -1 for exit date\n",
    "    exit_date = row['exit_datetime']\n",
    "    df.loc[df['datetime'] == exit_date, 'signal'] = -1"
   ]
  },
  {
   "cell_type": "code",
   "execution_count": 4,
   "metadata": {},
   "outputs": [],
   "source": [
    "df = df[['datetime', 'close', 'signal']]"
   ]
  },
  {
   "cell_type": "code",
   "execution_count": 5,
   "metadata": {},
   "outputs": [],
   "source": [
    "df['daily_returns'] = df['close'].pct_change()\n",
    "df['buy_and_hold_returns'] = (1 + df['daily_returns']).cumprod()\n",
    "\n",
    "df.loc[0, 'buy_and_hold_returns'] = 1"
   ]
  },
  {
   "cell_type": "code",
   "execution_count": 6,
   "metadata": {},
   "outputs": [],
   "source": [
    "df['strategy_returns'] = 1.0\n",
    "in_trade = False\n",
    "\n",
    "for i in range(1, len(df)):\n",
    "    if df['signal'].iloc[i-1] == 1:\n",
    "        in_trade = True\n",
    "    elif df['signal'].iloc[i-1] == -1:\n",
    "        in_trade = False\n",
    "    \n",
    "    if in_trade:\n",
    "        df.loc[i, 'strategy_returns'] = df['strategy_returns'].iloc[i-1] * (1 + df['daily_returns'].iloc[i])\n",
    "    else:\n",
    "        df.loc[i, 'strategy_returns'] = df['strategy_returns'].iloc[i-1]\n",
    "\n",
    "df.loc[0, 'strategy_returns'] = 1"
   ]
  },
  {
   "cell_type": "code",
   "execution_count": 7,
   "metadata": {},
   "outputs": [],
   "source": [
    "df['daily_strategy_returns'] = df['strategy_returns'].pct_change()"
   ]
  },
  {
   "cell_type": "code",
   "execution_count": 12,
   "metadata": {},
   "outputs": [],
   "source": [
    "non_zero_returns = df[df['daily_strategy_returns'] != 0]['daily_strategy_returns']\n",
    "sharpe_ratio = (non_zero_returns.mean() / non_zero_returns.std()) * (365 ** 0.5)\n",
    "\n",
    "negative_returns = df[df['daily_strategy_returns'] < 0]['daily_strategy_returns']\n",
    "sortino_ratio = (non_zero_returns.mean() / negative_returns.std()) * (365 ** 0.5)"
   ]
  },
  {
   "cell_type": "code",
   "execution_count": null,
   "metadata": {},
   "outputs": [],
   "source": [
    "df['datetime'] = pd.to_datetime(df['datetime'])\n",
    "df['date'] = df['datetime'].dt.date\n",
    "\n",
    "plt.figure(figsize=(14, 8))\n",
    "plt.plot(df['date'], df['buy_and_hold_returns'], label='Buy and Hold Returns', color='blue')\n",
    "plt.plot(df['date'], df['strategy_returns'], label='Strategy Returns', color='green')\n",
    "\n",
    "plt.xlabel('Date (by Month)')\n",
    "plt.ylabel('Returns')\n",
    "plt.title('Buy and Hold vs Strategy Returns')\n",
    "plt.legend()\n",
    "\n",
    "plt.grid(True)\n",
    "plt.xticks(rotation=45)\n",
    "plt.tight_layout()\n",
    "plt.show()"
   ]
  },
  {
   "cell_type": "code",
   "execution_count": 11,
   "metadata": {},
   "outputs": [],
   "source": [
    "trade_log_df.to_csv('trade_logs.csv')"
   ]
  },
  {
   "cell_type": "code",
   "execution_count": 13,
   "metadata": {},
   "outputs": [
    {
     "name": "stdout",
     "output_type": "stream",
     "text": [
      "4.056361407423136\n"
     ]
    }
   ],
   "source": [
    "print(sharpe_ratio)"
   ]
  },
  {
   "cell_type": "code",
   "execution_count": 14,
   "metadata": {},
   "outputs": [
    {
     "name": "stdout",
     "output_type": "stream",
     "text": [
      "7.581961902988647\n"
     ]
    }
   ],
   "source": [
    "print(sortino_ratio)"
   ]
  }
 ],
 "metadata": {
  "kernelspec": {
   "display_name": "Python 3",
   "language": "python",
   "name": "python3"
  },
  "language_info": {
   "codemirror_mode": {
    "name": "ipython",
    "version": 3
   },
   "file_extension": ".py",
   "mimetype": "text/x-python",
   "name": "python",
   "nbconvert_exporter": "python",
   "pygments_lexer": "ipython3",
   "version": "3.11.9"
  }
 },
 "nbformat": 4,
 "nbformat_minor": 2
}
